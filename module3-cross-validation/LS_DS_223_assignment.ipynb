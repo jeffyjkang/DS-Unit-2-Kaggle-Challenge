{
 "cells": [
  {
   "cell_type": "markdown",
   "metadata": {},
   "source": [
    "Lambda School Data Science\n",
    "\n",
    "*Unit 2, Sprint 2, Module 3*\n",
    "\n",
    "---\n",
    "<p style=\"padding: 10px; border: 2px solid red;\">\n",
    "    <b>Before you start:</b> Today is the day you should submit the dataset for your Unit 2 Build Week project. You can review the guidelines and make your submission in the Build Week course for your cohort on Canvas.</p>"
   ]
  },
  {
   "cell_type": "code",
   "execution_count": 1,
   "metadata": {},
   "outputs": [],
   "source": [
    "%%capture\n",
    "import sys\n",
    "\n",
    "# If you're on Colab:\n",
    "if 'google.colab' in sys.modules:\n",
    "    DATA_PATH = 'https://raw.githubusercontent.com/LambdaSchool/DS-Unit-2-Kaggle-Challenge/main/data/'\n",
    "    !pip install category_encoders==2.*\n",
    "    !pip install pandas-profiling==2.*\n",
    "\n",
    "# If you're working locally:\n",
    "else:\n",
    "    DATA_PATH = '../data/'"
   ]
  },
  {
   "cell_type": "markdown",
   "metadata": {},
   "source": [
    "# Module Project: Hyperparameter Tuning\n",
    "\n",
    "This sprint, the module projects will focus on creating and improving a model for the Tanazania Water Pump dataset. Your goal is to create a model to predict whether a water pump is functional, non-functional, or needs repair.\n",
    "\n",
    "Dataset source: [DrivenData.org](https://www.drivendata.org/competitions/7/pump-it-up-data-mining-the-water-table/).\n",
    "\n",
    "## Directions\n",
    "\n",
    "The tasks for this project are as follows:\n",
    "\n",
    "- **Task 1:** Use `wrangle` function to import training and test data.\n",
    "- **Task 2:** Split training data into feature matrix `X` and target vector `y`.\n",
    "- **Task 3:** Establish the baseline accuracy score for your dataset.\n",
    "- **Task 4:** Build `clf_dt`.\n",
    "- **Task 5:** Build `clf_rf`.\n",
    "- **Task 6:** Evaluate classifiers using k-fold cross-validation.\n",
    "- **Task 7:** Tune hyperparameters for best performing classifier.\n",
    "- **Task 8:** Print out best score and params for model.\n",
    "- **Task 9:** Create `submission.csv` and upload to Kaggle.\n",
    "\n",
    "You should limit yourself to the following libraries for this project:\n",
    "\n",
    "- `category_encoders`\n",
    "- `matplotlib`\n",
    "- `pandas`\n",
    "- `pandas-profiling`\n",
    "- `sklearn`\n",
    "\n",
    "# I. Wrangle Data"
   ]
  },
  {
   "cell_type": "code",
   "execution_count": 2,
   "metadata": {},
   "outputs": [],
   "source": [
    "def wrangle(fm_path, tv_path=None):\n",
    "    if tv_path:\n",
    "        df = pd.merge(pd.read_csv(fm_path, \n",
    "                                  na_values=[0, -2.000000e-08]),\n",
    "                      pd.read_csv(tv_path)).set_index('id')\n",
    "    else:\n",
    "        df = pd.read_csv(fm_path, \n",
    "                         na_values=[0, -2.000000e-08],\n",
    "                         index_col='id')\n",
    "\n",
    "    # Drop constant columns\n",
    "    df.drop(columns=['recorded_by'], inplace=True)\n",
    "\n",
    "    # Drop HCCCs\n",
    "    cutoff = 100\n",
    "    drop_cols = [col for col in df.select_dtypes('object').columns\n",
    "                 if df[col].nunique() > cutoff]\n",
    "    df.drop(columns=drop_cols, inplace=True)\n",
    "\n",
    "    # Drop duplicate columns\n",
    "    dupe_cols = [col for col in df.head(15).T.duplicated().index\n",
    "                 if df.head(15).T.duplicated()[col]]\n",
    "    df.drop(columns=dupe_cols, inplace=True)             \n",
    "\n",
    "    return df"
   ]
  },
  {
   "cell_type": "markdown",
   "metadata": {},
   "source": [
    "**Task 1:** Using the above `wrangle` function to read `train_features.csv` and `train_labels.csv` into the DataFrame `df`, and `test_features.csv` into the DataFrame `X_test`."
   ]
  },
  {
   "cell_type": "code",
   "execution_count": 4,
   "metadata": {},
   "outputs": [],
   "source": [
    "import pandas as pd\n",
    "\n",
    "df = wrangle('../data/waterpumps/train_features.csv', '../data/waterpumps/train_labels.csv')\n",
    "X_test = wrangle('../data/waterpumps/test_features.csv')"
   ]
  },
  {
   "cell_type": "markdown",
   "metadata": {},
   "source": [
    "# II. Split Data\n",
    "\n",
    "**Task 2:** Split your DataFrame `df` into a feature matrix `X` and the target vector `y`. You want to predict `'status_group'`.\n",
    "\n",
    "**Note:** You won't need to do a train-test split because you'll use cross-validation instead."
   ]
  },
  {
   "cell_type": "code",
   "execution_count": 6,
   "metadata": {},
   "outputs": [],
   "source": [
    "target = 'status_group'\n",
    "X = df.drop(columns=target)\n",
    "y = df[target]"
   ]
  },
  {
   "cell_type": "markdown",
   "metadata": {},
   "source": [
    "# III. Establish Baseline\n",
    "\n",
    "**Task 3:** Since this is a **classification** problem, you should establish a baseline accuracy score. Figure out what is the majority class in `y_train` and what percentage of your training observations it represents."
   ]
  },
  {
   "cell_type": "code",
   "execution_count": 7,
   "metadata": {},
   "outputs": [
    {
     "name": "stdout",
     "output_type": "stream",
     "text": [
      "Baseline Accuracy Score: 0.5430899510092763\n"
     ]
    }
   ],
   "source": [
    "baseline_acc = y.value_counts(normalize=True).max()\n",
    "print('Baseline Accuracy Score:', baseline_acc)"
   ]
  },
  {
   "cell_type": "markdown",
   "metadata": {},
   "source": [
    "# IV. Build Models\n",
    "\n",
    "**Task 4:** Build a `Pipeline` named `clf_dt`. Your `Pipeline` should include:\n",
    "\n",
    "- an `OrdinalEncoder` transformer for categorical features.\n",
    "- a `SimpleImputer` transformer fot missing values.\n",
    "- a `DecisionTreeClassifier` Predictor.\n",
    "\n",
    "**Note:** Do not train `clf_dt`. You'll do that in a subsequent task. "
   ]
  },
  {
   "cell_type": "code",
   "execution_count": 12,
   "metadata": {},
   "outputs": [],
   "source": [
    "from sklearn.pipeline import make_pipeline\n",
    "from category_encoders import OrdinalEncoder\n",
    "from sklearn.impute import SimpleImputer"
   ]
  },
  {
   "cell_type": "code",
   "execution_count": 11,
   "metadata": {},
   "outputs": [],
   "source": [
    "from sklearn.tree import DecisionTreeClassifier\n",
    "\n",
    "clf_dt = make_pipeline(\n",
    "    OrdinalEncoder(),\n",
    "    SimpleImputer(),\n",
    "    DecisionTreeClassifier()\n",
    ")"
   ]
  },
  {
   "cell_type": "markdown",
   "metadata": {},
   "source": [
    "**Task 5:** Build a `Pipeline` named `clf_rf`. Your `Pipeline` should include:\n",
    "\n",
    "- an `OrdinalEncoder` transformer for categorical features.\n",
    "- a `SimpleImputer` transformer fot missing values.\n",
    "- a `RandomForestClassifier` predictor.\n",
    "\n",
    "**Note:** Do not train `clf_rf`. You'll do that in a subsequent task. "
   ]
  },
  {
   "cell_type": "code",
   "execution_count": 13,
   "metadata": {},
   "outputs": [],
   "source": [
    "from sklearn.ensemble import RandomForestClassifier\n",
    "\n",
    "clf_rf = make_pipeline(\n",
    "    OrdinalEncoder(),\n",
    "    SimpleImputer(),\n",
    "    RandomForestClassifier()\n",
    ")"
   ]
  },
  {
   "cell_type": "markdown",
   "metadata": {},
   "source": [
    "# V. Check Metrics\n",
    "\n",
    "**Task 6:** Evaluate the performance of both of your classifiers using k-fold cross-validation."
   ]
  },
  {
   "cell_type": "code",
   "execution_count": 16,
   "metadata": {},
   "outputs": [],
   "source": [
    "from sklearn.model_selection import cross_val_score\n",
    "\n",
    "cv_scores_dt = cross_val_score(clf_dt, X, y, cv=5, n_jobs=-1)\n",
    "cv_scores_rf = cross_val_score(clf_rf, X, y, cv=5, n_jobs=-1)"
   ]
  },
  {
   "cell_type": "code",
   "execution_count": 17,
   "metadata": {},
   "outputs": [
    {
     "name": "stdout",
     "output_type": "stream",
     "text": [
      "CV scores DecisionTreeClassifier\n",
      "[0.75639731 0.74924242 0.75319865 0.75353535 0.75292533]\n",
      "Mean CV accuracy score: 0.7530598135577511\n",
      "STD CV accuracy score: 0.0022792463697774165\n"
     ]
    }
   ],
   "source": [
    "print('CV scores DecisionTreeClassifier')\n",
    "print(cv_scores_dt)\n",
    "print('Mean CV accuracy score:', cv_scores_dt.mean())\n",
    "print('STD CV accuracy score:', cv_scores_dt.std())"
   ]
  },
  {
   "cell_type": "code",
   "execution_count": 18,
   "metadata": {},
   "outputs": [
    {
     "name": "stdout",
     "output_type": "stream",
     "text": [
      "CV score RandomForestClassifier\n",
      "[0.80808081 0.80260943 0.80572391 0.80227273 0.80149844]\n",
      "Mean CV accuracy score: 0.8040370622633439\n",
      "STD CV accuracy score: 0.0024816498304326253\n"
     ]
    }
   ],
   "source": [
    "print('CV score RandomForestClassifier')\n",
    "print(cv_scores_rf)\n",
    "print('Mean CV accuracy score:', cv_scores_rf.mean())\n",
    "print('STD CV accuracy score:', cv_scores_rf.std())"
   ]
  },
  {
   "cell_type": "markdown",
   "metadata": {},
   "source": [
    "# VI. Tune Model\n",
    "\n",
    "**Task 7:** Choose the best performing of your two models and tune its hyperparameters using a `RandomizedSearchCV` named `model`. Make sure that you include cross-validation and that `n_iter` is set to at least `25`.\n",
    "\n",
    "**Note:** If you're not sure which hyperparameters to tune, check the notes from today's guided project and the `sklearn` documentation. "
   ]
  },
  {
   "cell_type": "code",
   "execution_count": 28,
   "metadata": {},
   "outputs": [
    {
     "name": "stdout",
     "output_type": "stream",
     "text": [
      "Fitting 5 folds for each of 25 candidates, totalling 125 fits\n"
     ]
    },
    {
     "data": {
      "text/plain": [
       "RandomizedSearchCV(cv=5,\n",
       "                   estimator=Pipeline(steps=[('ordinalencoder',\n",
       "                                              OrdinalEncoder()),\n",
       "                                             ('simpleimputer', SimpleImputer()),\n",
       "                                             ('randomforestclassifier',\n",
       "                                              RandomForestClassifier())]),\n",
       "                   n_iter=25, n_jobs=-1,\n",
       "                   param_distributions={'randomforestclassifier__max_depth': range(20, 36, 5),\n",
       "                                        'randomforestclassifier__max_samples': array([0.2, 0.3, 0.4]),\n",
       "                                        'randomforestclassifier__n_estimators': [75,\n",
       "                                                                                 100,\n",
       "                                                                                 125,\n",
       "                                                                                 150]},\n",
       "                   verbose=1)"
      ]
     },
     "execution_count": 28,
     "metadata": {},
     "output_type": "execute_result"
    }
   ],
   "source": [
    "from sklearn.model_selection import RandomizedSearchCV\n",
    "import numpy as np\n",
    "\n",
    "params = {\n",
    "    'randomforestclassifier__max_depth': range(20, 36, 5),\n",
    "    'randomforestclassifier__n_estimators': [75, 100, 125, 150],\n",
    "    'randomforestclassifier__max_samples': np.arange(0.2, 0.5, 0.1)\n",
    "}\n",
    "\n",
    "model = RandomizedSearchCV(\n",
    "    clf_rf,\n",
    "    param_distributions=params,\n",
    "    n_iter=25,\n",
    "    cv=5,\n",
    "    n_jobs=-1,\n",
    "    verbose=1\n",
    ")\n",
    "model.fit(X, y)"
   ]
  },
  {
   "cell_type": "markdown",
   "metadata": {},
   "source": [
    "**Task 8:** Print out the best score and best params for `model`."
   ]
  },
  {
   "cell_type": "code",
   "execution_count": 29,
   "metadata": {},
   "outputs": [
    {
     "name": "stdout",
     "output_type": "stream",
     "text": [
      "Best score for `model`: 0.8104176569409333\n",
      "Best params for `model`: {'randomforestclassifier__n_estimators': 150, 'randomforestclassifier__max_samples': 0.4000000000000001, 'randomforestclassifier__max_depth': 30}\n"
     ]
    }
   ],
   "source": [
    "best_score = model.best_score_\n",
    "best_params = model.best_params_\n",
    "\n",
    "print('Best score for `model`:', best_score)\n",
    "print('Best params for `model`:', best_params)"
   ]
  },
  {
   "cell_type": "markdown",
   "metadata": {},
   "source": [
    "# Communicate Results"
   ]
  },
  {
   "cell_type": "markdown",
   "metadata": {},
   "source": [
    "**Task 9:** Create a DataFrame `submission` whose index is the same as `X_test` and that has one column `'status_group'` with your predictions. Next, save this DataFrame as a CSV file and upload your submissions to our competition site. \n",
    "\n",
    "**Note:** Check the `sample_submission.csv` file on the competition website to make sure your submissions follows the same formatting. "
   ]
  },
  {
   "cell_type": "code",
   "execution_count": 35,
   "metadata": {},
   "outputs": [],
   "source": [
    "X_test = model.predict(X)\n",
    "data = {'status_group': X_test}\n",
    "submission = pd.DataFrame(data)\n",
    "# submission.to_csv('water_pump_status_group_test.csv', index=False)"
   ]
  },
  {
   "cell_type": "code",
   "execution_count": null,
   "metadata": {},
   "outputs": [],
   "source": []
  }
 ],
 "metadata": {
  "kernelspec": {
   "display_name": "Python 3 (ipykernel)",
   "language": "python",
   "name": "python3"
  },
  "language_info": {
   "codemirror_mode": {
    "name": "ipython",
    "version": 3
   },
   "file_extension": ".py",
   "mimetype": "text/x-python",
   "name": "python",
   "nbconvert_exporter": "python",
   "pygments_lexer": "ipython3",
   "version": "3.9.7"
  }
 },
 "nbformat": 4,
 "nbformat_minor": 2
}
